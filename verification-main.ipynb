{
 "cells": [
  {
   "cell_type": "markdown",
   "metadata": {
    "id": "zoJm_lNFP3xq"
   },
   "source": [
    "# CIVP - 저작권 검증모델 \n",
    "## 1. 학습 준비\n",
    " - 필요한 library 적용(tensorflow, keras, sklearn, seaborn 등)"
   ]
  },
  {
   "cell_type": "code",
   "execution_count": 1,
   "metadata": {
    "executionInfo": {
     "elapsed": 2233,
     "status": "ok",
     "timestamp": 1665575920795,
     "user": {
      "displayName": "박선호",
      "userId": "01683109212755972432"
     },
     "user_tz": -540
    },
    "id": "pv-iv4dJgizJ"
   },
   "outputs": [],
   "source": [
    "from tensorflow import keras # tensorflow.keras모듈\n",
    "import numpy as np\n",
    "import pandas as pd\n",
    "import re\n",
    "import random\n",
    "from keras.models import Sequential\n",
    "from keras.layers import Dense\n",
    "from sklearn.metrics import confusion_matrix, plot_confusion_matrix, classification_report\n",
    "import matplotlib.pyplot as plt\n",
    "from sklearn.model_selection import train_test_split\n",
    "import seaborn as sns\n",
    "sns.set()"
   ]
  },
  {
   "cell_type": "markdown",
   "metadata": {
    "id": "hkDqcIDJPCQK"
   },
   "source": [
    "- 수집된 UCI_code 데이터 10000개 단위로 불러오기(2469개 chunk)"
   ]
  },
  {
   "cell_type": "code",
   "execution_count": 2,
   "metadata": {
    "executionInfo": {
     "elapsed": 76744,
     "status": "ok",
     "timestamp": 1665576998267,
     "user": {
      "displayName": "박선호",
      "userId": "01683109212755972432"
     },
     "user_tz": -540
    },
    "id": "HFLLE2Uj0ut3"
   },
   "outputs": [],
   "source": [
    "chunk_df = pd.read_csv('./uci_code.csv', chunksize=10000)\n",
    "chunk = list(chunk_df)"
   ]
  },
  {
   "cell_type": "markdown",
   "metadata": {
    "id": "D-kK6XhLR7xL"
   },
   "source": [
    "- 모델에 필요한 정보가 있는 data 선별"
   ]
  },
  {
   "cell_type": "code",
   "execution_count": 3,
   "metadata": {
    "colab": {
     "base_uri": "https://localhost:8080/"
    },
    "executionInfo": {
     "elapsed": 994,
     "status": "ok",
     "timestamp": 1665576999248,
     "user": {
      "displayName": "박선호",
      "userId": "01683109212755972432"
     },
     "user_tz": -540
    },
    "id": "g7HzxRB22yFs",
    "outputId": "39344e9f-74d1-4683-86dd-c681329e1601"
   },
   "outputs": [
    {
     "name": "stdout",
     "output_type": "stream",
     "text": [
      "[6, 7, 8, 9, 10, 11, 12, 13, 14, 15, 16, 17]\n"
     ]
    }
   ],
   "source": [
    "# 모델에 필요한 정보가 있는 data 선별\n",
    "\n",
    "a_list = list()\n",
    "for i, df in enumerate(chunk):\n",
    "    if df['issue_date'].isna().sum() != len(chunk[i]):\n",
    "        a_list.append(i)\n",
    "        # print(df['issue_date'].isna().sum())\n",
    "        \n",
    "print(a_list)"
   ]
  },
  {
   "cell_type": "code",
   "execution_count": 4,
   "metadata": {
    "colab": {
     "base_uri": "https://localhost:8080/"
    },
    "executionInfo": {
     "elapsed": 7,
     "status": "ok",
     "timestamp": 1665576999249,
     "user": {
      "displayName": "박선호",
      "userId": "01683109212755972432"
     },
     "user_tz": -540
    },
    "id": "LSnLQqnkHZNm",
    "outputId": "d7b8e34e-1fce-4952-8015-69e9104754ea"
   },
   "outputs": [
    {
     "data": {
      "text/plain": [
       "(120000, 23)"
      ]
     },
     "execution_count": 4,
     "metadata": {},
     "output_type": "execute_result"
    }
   ],
   "source": [
    "df = pd.concat(chunk[6:18])\n",
    "df.shape"
   ]
  },
  {
   "cell_type": "code",
   "execution_count": 6,
   "metadata": {
    "executionInfo": {
     "elapsed": 4,
     "status": "ok",
     "timestamp": 1665576999249,
     "user": {
      "displayName": "박선호",
      "userId": "01683109212755972432"
     },
     "user_tz": -540
    },
    "id": "5L_h1aaTwFiB"
   },
   "outputs": [],
   "source": [
    "df2 = df[['song','resister_date', 'issue_date', 'singer','album_singer']]\n",
    "df3 = df2.dropna()"
   ]
  },
  {
   "cell_type": "code",
   "execution_count": 7,
   "metadata": {
    "colab": {
     "base_uri": "https://localhost:8080/",
     "height": 904
    },
    "executionInfo": {
     "elapsed": 5,
     "status": "ok",
     "timestamp": 1665538422725,
     "user": {
      "displayName": "박선호",
      "userId": "01683109212755972432"
     },
     "user_tz": -540
    },
    "id": "sHDiHWsQbdiZ",
    "outputId": "2c18ba61-9cc5-45d8-8d2d-01e686a4e17a"
   },
   "outputs": [
    {
     "data": {
      "text/html": [
       "<div>\n",
       "<style scoped>\n",
       "    .dataframe tbody tr th:only-of-type {\n",
       "        vertical-align: middle;\n",
       "    }\n",
       "\n",
       "    .dataframe tbody tr th {\n",
       "        vertical-align: top;\n",
       "    }\n",
       "\n",
       "    .dataframe thead th {\n",
       "        text-align: right;\n",
       "    }\n",
       "</style>\n",
       "<table border=\"1\" class=\"dataframe\">\n",
       "  <thead>\n",
       "    <tr style=\"text-align: right;\">\n",
       "      <th></th>\n",
       "      <th>id</th>\n",
       "      <th>uci_code</th>\n",
       "      <th>song</th>\n",
       "      <th>resister_date</th>\n",
       "      <th>page</th>\n",
       "      <th>state</th>\n",
       "      <th>album</th>\n",
       "      <th>issue_date</th>\n",
       "      <th>distributor</th>\n",
       "      <th>cd_num</th>\n",
       "      <th>...</th>\n",
       "      <th>album_singer</th>\n",
       "      <th>UPC</th>\n",
       "      <th>production_company</th>\n",
       "      <th>track_num</th>\n",
       "      <th>singer</th>\n",
       "      <th>ISRC</th>\n",
       "      <th>lyricist</th>\n",
       "      <th>arranger</th>\n",
       "      <th>playtime</th>\n",
       "      <th>featuring</th>\n",
       "    </tr>\n",
       "  </thead>\n",
       "  <tbody>\n",
       "    <tr>\n",
       "      <th>3000000</th>\n",
       "      <td>3018234</td>\n",
       "      <td>i500-1000006512642.100037292117-1</td>\n",
       "      <td>Hernando's Hideaway (Strict Tempo)</td>\n",
       "      <td>2020-07-12</td>\n",
       "      <td>293184</td>\n",
       "      <td>0</td>\n",
       "      <td>NaN</td>\n",
       "      <td>NaN</td>\n",
       "      <td>NaN</td>\n",
       "      <td>NaN</td>\n",
       "      <td>...</td>\n",
       "      <td>NaN</td>\n",
       "      <td>NaN</td>\n",
       "      <td>NaN</td>\n",
       "      <td>NaN</td>\n",
       "      <td>NaN</td>\n",
       "      <td>NaN</td>\n",
       "      <td>NaN</td>\n",
       "      <td>NaN</td>\n",
       "      <td>NaN</td>\n",
       "      <td>NaN</td>\n",
       "    </tr>\n",
       "    <tr>\n",
       "      <th>3000001</th>\n",
       "      <td>3018235</td>\n",
       "      <td>i500-1000004883841.100051669886-1</td>\n",
       "      <td>Iron Man 3 - The Film Trailer Soundtrac...</td>\n",
       "      <td>2020-07-12</td>\n",
       "      <td>293181</td>\n",
       "      <td>0</td>\n",
       "      <td>NaN</td>\n",
       "      <td>NaN</td>\n",
       "      <td>NaN</td>\n",
       "      <td>NaN</td>\n",
       "      <td>...</td>\n",
       "      <td>NaN</td>\n",
       "      <td>NaN</td>\n",
       "      <td>NaN</td>\n",
       "      <td>NaN</td>\n",
       "      <td>NaN</td>\n",
       "      <td>NaN</td>\n",
       "      <td>NaN</td>\n",
       "      <td>NaN</td>\n",
       "      <td>NaN</td>\n",
       "      <td>NaN</td>\n",
       "    </tr>\n",
       "    <tr>\n",
       "      <th>3000002</th>\n",
       "      <td>3018236</td>\n",
       "      <td>i500-1000005035375.100051669779-1</td>\n",
       "      <td>Lead Me Not Into Temptation</td>\n",
       "      <td>2020-07-12</td>\n",
       "      <td>293179</td>\n",
       "      <td>0</td>\n",
       "      <td>NaN</td>\n",
       "      <td>NaN</td>\n",
       "      <td>NaN</td>\n",
       "      <td>NaN</td>\n",
       "      <td>...</td>\n",
       "      <td>NaN</td>\n",
       "      <td>NaN</td>\n",
       "      <td>NaN</td>\n",
       "      <td>NaN</td>\n",
       "      <td>NaN</td>\n",
       "      <td>NaN</td>\n",
       "      <td>NaN</td>\n",
       "      <td>NaN</td>\n",
       "      <td>NaN</td>\n",
       "      <td>NaN</td>\n",
       "    </tr>\n",
       "    <tr>\n",
       "      <th>3000003</th>\n",
       "      <td>3018237</td>\n",
       "      <td>i500-1000006512642.100037241024-1</td>\n",
       "      <td>Blue Tango (Strict Tempo)</td>\n",
       "      <td>2020-07-12</td>\n",
       "      <td>293184</td>\n",
       "      <td>0</td>\n",
       "      <td>NaN</td>\n",
       "      <td>NaN</td>\n",
       "      <td>NaN</td>\n",
       "      <td>NaN</td>\n",
       "      <td>...</td>\n",
       "      <td>NaN</td>\n",
       "      <td>NaN</td>\n",
       "      <td>NaN</td>\n",
       "      <td>NaN</td>\n",
       "      <td>NaN</td>\n",
       "      <td>NaN</td>\n",
       "      <td>NaN</td>\n",
       "      <td>NaN</td>\n",
       "      <td>NaN</td>\n",
       "      <td>NaN</td>\n",
       "    </tr>\n",
       "    <tr>\n",
       "      <th>3000004</th>\n",
       "      <td>3018238</td>\n",
       "      <td>i500-1000004883841.100051669876-1</td>\n",
       "      <td>I've Got No Strings (From the \"Avengers...</td>\n",
       "      <td>2020-07-12</td>\n",
       "      <td>293182</td>\n",
       "      <td>0</td>\n",
       "      <td>NaN</td>\n",
       "      <td>NaN</td>\n",
       "      <td>NaN</td>\n",
       "      <td>NaN</td>\n",
       "      <td>...</td>\n",
       "      <td>NaN</td>\n",
       "      <td>NaN</td>\n",
       "      <td>NaN</td>\n",
       "      <td>NaN</td>\n",
       "      <td>NaN</td>\n",
       "      <td>NaN</td>\n",
       "      <td>NaN</td>\n",
       "      <td>NaN</td>\n",
       "      <td>NaN</td>\n",
       "      <td>NaN</td>\n",
       "    </tr>\n",
       "    <tr>\n",
       "      <th>...</th>\n",
       "      <td>...</td>\n",
       "      <td>...</td>\n",
       "      <td>...</td>\n",
       "      <td>...</td>\n",
       "      <td>...</td>\n",
       "      <td>...</td>\n",
       "      <td>...</td>\n",
       "      <td>...</td>\n",
       "      <td>...</td>\n",
       "      <td>...</td>\n",
       "      <td>...</td>\n",
       "      <td>...</td>\n",
       "      <td>...</td>\n",
       "      <td>...</td>\n",
       "      <td>...</td>\n",
       "      <td>...</td>\n",
       "      <td>...</td>\n",
       "      <td>...</td>\n",
       "      <td>...</td>\n",
       "      <td>...</td>\n",
       "      <td>...</td>\n",
       "    </tr>\n",
       "    <tr>\n",
       "      <th>3009995</th>\n",
       "      <td>3028229</td>\n",
       "      <td>i500-1000006511859.100051660714-1</td>\n",
       "      <td>Float Away</td>\n",
       "      <td>2020-07-11</td>\n",
       "      <td>294180</td>\n",
       "      <td>0</td>\n",
       "      <td>NaN</td>\n",
       "      <td>NaN</td>\n",
       "      <td>NaN</td>\n",
       "      <td>NaN</td>\n",
       "      <td>...</td>\n",
       "      <td>NaN</td>\n",
       "      <td>NaN</td>\n",
       "      <td>NaN</td>\n",
       "      <td>NaN</td>\n",
       "      <td>NaN</td>\n",
       "      <td>NaN</td>\n",
       "      <td>NaN</td>\n",
       "      <td>NaN</td>\n",
       "      <td>NaN</td>\n",
       "      <td>NaN</td>\n",
       "    </tr>\n",
       "    <tr>\n",
       "      <th>3009996</th>\n",
       "      <td>3028230</td>\n",
       "      <td>i500-1000006511854.100051660642-1</td>\n",
       "      <td>Too Hot (feat. Lisa Stansfield)</td>\n",
       "      <td>2020-07-11</td>\n",
       "      <td>294185</td>\n",
       "      <td>0</td>\n",
       "      <td>NaN</td>\n",
       "      <td>NaN</td>\n",
       "      <td>NaN</td>\n",
       "      <td>NaN</td>\n",
       "      <td>...</td>\n",
       "      <td>NaN</td>\n",
       "      <td>NaN</td>\n",
       "      <td>NaN</td>\n",
       "      <td>NaN</td>\n",
       "      <td>NaN</td>\n",
       "      <td>NaN</td>\n",
       "      <td>NaN</td>\n",
       "      <td>NaN</td>\n",
       "      <td>NaN</td>\n",
       "      <td>NaN</td>\n",
       "    </tr>\n",
       "    <tr>\n",
       "      <th>3009997</th>\n",
       "      <td>3028231</td>\n",
       "      <td>i500-1000006511859.100051660713-1</td>\n",
       "      <td>Mama Needs a Girls Night Out</td>\n",
       "      <td>2020-07-11</td>\n",
       "      <td>294180</td>\n",
       "      <td>0</td>\n",
       "      <td>NaN</td>\n",
       "      <td>NaN</td>\n",
       "      <td>NaN</td>\n",
       "      <td>NaN</td>\n",
       "      <td>...</td>\n",
       "      <td>NaN</td>\n",
       "      <td>NaN</td>\n",
       "      <td>NaN</td>\n",
       "      <td>NaN</td>\n",
       "      <td>NaN</td>\n",
       "      <td>NaN</td>\n",
       "      <td>NaN</td>\n",
       "      <td>NaN</td>\n",
       "      <td>NaN</td>\n",
       "      <td>NaN</td>\n",
       "    </tr>\n",
       "    <tr>\n",
       "      <th>3009998</th>\n",
       "      <td>3028232</td>\n",
       "      <td>i500-1000006511854.100051660641-1</td>\n",
       "      <td>Hearthache to Hearthache</td>\n",
       "      <td>2020-07-11</td>\n",
       "      <td>294185</td>\n",
       "      <td>0</td>\n",
       "      <td>NaN</td>\n",
       "      <td>NaN</td>\n",
       "      <td>NaN</td>\n",
       "      <td>NaN</td>\n",
       "      <td>...</td>\n",
       "      <td>NaN</td>\n",
       "      <td>NaN</td>\n",
       "      <td>NaN</td>\n",
       "      <td>NaN</td>\n",
       "      <td>NaN</td>\n",
       "      <td>NaN</td>\n",
       "      <td>NaN</td>\n",
       "      <td>NaN</td>\n",
       "      <td>NaN</td>\n",
       "      <td>NaN</td>\n",
       "    </tr>\n",
       "    <tr>\n",
       "      <th>3009999</th>\n",
       "      <td>3028233</td>\n",
       "      <td>i500-1000006511859.100051660712-1</td>\n",
       "      <td>Girl Like This</td>\n",
       "      <td>2020-07-11</td>\n",
       "      <td>294180</td>\n",
       "      <td>0</td>\n",
       "      <td>NaN</td>\n",
       "      <td>NaN</td>\n",
       "      <td>NaN</td>\n",
       "      <td>NaN</td>\n",
       "      <td>...</td>\n",
       "      <td>NaN</td>\n",
       "      <td>NaN</td>\n",
       "      <td>NaN</td>\n",
       "      <td>NaN</td>\n",
       "      <td>NaN</td>\n",
       "      <td>NaN</td>\n",
       "      <td>NaN</td>\n",
       "      <td>NaN</td>\n",
       "      <td>NaN</td>\n",
       "      <td>NaN</td>\n",
       "    </tr>\n",
       "  </tbody>\n",
       "</table>\n",
       "<p>10000 rows × 23 columns</p>\n",
       "</div>"
      ],
      "text/plain": [
       "              id                           uci_code  \\\n",
       "3000000  3018234  i500-1000006512642.100037292117-1   \n",
       "3000001  3018235  i500-1000004883841.100051669886-1   \n",
       "3000002  3018236  i500-1000005035375.100051669779-1   \n",
       "3000003  3018237  i500-1000006512642.100037241024-1   \n",
       "3000004  3018238  i500-1000004883841.100051669876-1   \n",
       "...          ...                                ...   \n",
       "3009995  3028229  i500-1000006511859.100051660714-1   \n",
       "3009996  3028230  i500-1000006511854.100051660642-1   \n",
       "3009997  3028231  i500-1000006511859.100051660713-1   \n",
       "3009998  3028232  i500-1000006511854.100051660641-1   \n",
       "3009999  3028233  i500-1000006511859.100051660712-1   \n",
       "\n",
       "                                               song resister_date    page  \\\n",
       "3000000         Hernando's Hideaway (Strict Tempo)     2020-07-12  293184   \n",
       "3000001  Iron Man 3 - The Film Trailer Soundtrac...    2020-07-12  293181   \n",
       "3000002                Lead Me Not Into Temptation     2020-07-12  293179   \n",
       "3000003                  Blue Tango (Strict Tempo)     2020-07-12  293184   \n",
       "3000004  I've Got No Strings (From the \"Avengers...    2020-07-12  293182   \n",
       "...                                             ...           ...     ...   \n",
       "3009995                                 Float Away     2020-07-11  294180   \n",
       "3009996            Too Hot (feat. Lisa Stansfield)     2020-07-11  294185   \n",
       "3009997               Mama Needs a Girls Night Out     2020-07-11  294180   \n",
       "3009998                   Hearthache to Hearthache     2020-07-11  294185   \n",
       "3009999                             Girl Like This     2020-07-11  294180   \n",
       "\n",
       "         state  album  issue_date  distributor  cd_num  ...  album_singer  \\\n",
       "3000000      0    NaN         NaN          NaN     NaN  ...           NaN   \n",
       "3000001      0    NaN         NaN          NaN     NaN  ...           NaN   \n",
       "3000002      0    NaN         NaN          NaN     NaN  ...           NaN   \n",
       "3000003      0    NaN         NaN          NaN     NaN  ...           NaN   \n",
       "3000004      0    NaN         NaN          NaN     NaN  ...           NaN   \n",
       "...        ...    ...         ...          ...     ...  ...           ...   \n",
       "3009995      0    NaN         NaN          NaN     NaN  ...           NaN   \n",
       "3009996      0    NaN         NaN          NaN     NaN  ...           NaN   \n",
       "3009997      0    NaN         NaN          NaN     NaN  ...           NaN   \n",
       "3009998      0    NaN         NaN          NaN     NaN  ...           NaN   \n",
       "3009999      0    NaN         NaN          NaN     NaN  ...           NaN   \n",
       "\n",
       "         UPC  production_company  track_num  singer  ISRC  lyricist  arranger  \\\n",
       "3000000  NaN                 NaN        NaN     NaN   NaN       NaN       NaN   \n",
       "3000001  NaN                 NaN        NaN     NaN   NaN       NaN       NaN   \n",
       "3000002  NaN                 NaN        NaN     NaN   NaN       NaN       NaN   \n",
       "3000003  NaN                 NaN        NaN     NaN   NaN       NaN       NaN   \n",
       "3000004  NaN                 NaN        NaN     NaN   NaN       NaN       NaN   \n",
       "...      ...                 ...        ...     ...   ...       ...       ...   \n",
       "3009995  NaN                 NaN        NaN     NaN   NaN       NaN       NaN   \n",
       "3009996  NaN                 NaN        NaN     NaN   NaN       NaN       NaN   \n",
       "3009997  NaN                 NaN        NaN     NaN   NaN       NaN       NaN   \n",
       "3009998  NaN                 NaN        NaN     NaN   NaN       NaN       NaN   \n",
       "3009999  NaN                 NaN        NaN     NaN   NaN       NaN       NaN   \n",
       "\n",
       "         playtime  featuring  \n",
       "3000000       NaN        NaN  \n",
       "3000001       NaN        NaN  \n",
       "3000002       NaN        NaN  \n",
       "3000003       NaN        NaN  \n",
       "3000004       NaN        NaN  \n",
       "...           ...        ...  \n",
       "3009995       NaN        NaN  \n",
       "3009996       NaN        NaN  \n",
       "3009997       NaN        NaN  \n",
       "3009998       NaN        NaN  \n",
       "3009999       NaN        NaN  \n",
       "\n",
       "[10000 rows x 23 columns]"
      ]
     },
     "execution_count": 7,
     "metadata": {},
     "output_type": "execute_result"
    }
   ],
   "source": [
    "# df[df['composer'].notnull()]['composer']\n",
    "# df[df['distributor'].notnull()]\n",
    "# df3['album_singer']\n",
    "chunk[300]"
   ]
  },
  {
   "cell_type": "code",
   "execution_count": 8,
   "metadata": {
    "colab": {
     "base_uri": "https://localhost:8080/"
    },
    "executionInfo": {
     "elapsed": 716,
     "status": "ok",
     "timestamp": 1665576999962,
     "user": {
      "displayName": "박선호",
      "userId": "01683109212755972432"
     },
     "user_tz": -540
    },
    "id": "DGtAHD0w4whT",
    "outputId": "70532450-8a01-4a94-c070-4ec9e9f17796"
   },
   "outputs": [
    {
     "name": "stderr",
     "output_type": "stream",
     "text": [
      "C:\\Users\\user\\anaconda3\\envs\\CIVP-flow_prediction\\lib\\site-packages\\ipykernel_launcher.py:2: SettingWithCopyWarning: \n",
      "A value is trying to be set on a copy of a slice from a DataFrame.\n",
      "Try using .loc[row_indexer,col_indexer] = value instead\n",
      "\n",
      "See the caveats in the documentation: https://pandas.pydata.org/pandas-docs/stable/user_guide/indexing.html#returning-a-view-versus-a-copy\n",
      "  \n",
      "C:\\Users\\user\\anaconda3\\envs\\CIVP-flow_prediction\\lib\\site-packages\\ipykernel_launcher.py:3: SettingWithCopyWarning: \n",
      "A value is trying to be set on a copy of a slice from a DataFrame.\n",
      "Try using .loc[row_indexer,col_indexer] = value instead\n",
      "\n",
      "See the caveats in the documentation: https://pandas.pydata.org/pandas-docs/stable/user_guide/indexing.html#returning-a-view-versus-a-copy\n",
      "  This is separate from the ipykernel package so we can avoid doing imports until\n",
      "C:\\Users\\user\\anaconda3\\envs\\CIVP-flow_prediction\\lib\\site-packages\\ipykernel_launcher.py:4: SettingWithCopyWarning: \n",
      "A value is trying to be set on a copy of a slice from a DataFrame.\n",
      "Try using .loc[row_indexer,col_indexer] = value instead\n",
      "\n",
      "See the caveats in the documentation: https://pandas.pydata.org/pandas-docs/stable/user_guide/indexing.html#returning-a-view-versus-a-copy\n",
      "  after removing the cwd from sys.path.\n",
      "C:\\Users\\user\\anaconda3\\envs\\CIVP-flow_prediction\\lib\\site-packages\\ipykernel_launcher.py:5: SettingWithCopyWarning: \n",
      "A value is trying to be set on a copy of a slice from a DataFrame.\n",
      "Try using .loc[row_indexer,col_indexer] = value instead\n",
      "\n",
      "See the caveats in the documentation: https://pandas.pydata.org/pandas-docs/stable/user_guide/indexing.html#returning-a-view-versus-a-copy\n",
      "  \"\"\"\n",
      "C:\\Users\\user\\anaconda3\\envs\\CIVP-flow_prediction\\lib\\site-packages\\ipykernel_launcher.py:6: SettingWithCopyWarning: \n",
      "A value is trying to be set on a copy of a slice from a DataFrame.\n",
      "Try using .loc[row_indexer,col_indexer] = value instead\n",
      "\n",
      "See the caveats in the documentation: https://pandas.pydata.org/pandas-docs/stable/user_guide/indexing.html#returning-a-view-versus-a-copy\n",
      "  \n",
      "C:\\Users\\user\\anaconda3\\envs\\CIVP-flow_prediction\\lib\\site-packages\\ipykernel_launcher.py:7: SettingWithCopyWarning: \n",
      "A value is trying to be set on a copy of a slice from a DataFrame.\n",
      "Try using .loc[row_indexer,col_indexer] = value instead\n",
      "\n",
      "See the caveats in the documentation: https://pandas.pydata.org/pandas-docs/stable/user_guide/indexing.html#returning-a-view-versus-a-copy\n",
      "  import sys\n",
      "C:\\Users\\user\\anaconda3\\envs\\CIVP-flow_prediction\\lib\\site-packages\\ipykernel_launcher.py:8: SettingWithCopyWarning: \n",
      "A value is trying to be set on a copy of a slice from a DataFrame.\n",
      "Try using .loc[row_indexer,col_indexer] = value instead\n",
      "\n",
      "See the caveats in the documentation: https://pandas.pydata.org/pandas-docs/stable/user_guide/indexing.html#returning-a-view-versus-a-copy\n",
      "  \n",
      "C:\\Users\\user\\anaconda3\\envs\\CIVP-flow_prediction\\lib\\site-packages\\ipykernel_launcher.py:9: SettingWithCopyWarning: \n",
      "A value is trying to be set on a copy of a slice from a DataFrame.\n",
      "Try using .loc[row_indexer,col_indexer] = value instead\n",
      "\n",
      "See the caveats in the documentation: https://pandas.pydata.org/pandas-docs/stable/user_guide/indexing.html#returning-a-view-versus-a-copy\n",
      "  if __name__ == \"__main__\":\n"
     ]
    }
   ],
   "source": [
    "# 데이터 형식 변환 및 처리\n",
    "df3['issue_date'] = pd.to_datetime(df3['issue_date'])\n",
    "df3['resister_date'] = pd.to_datetime(df3['resister_date'])\n",
    "df3['date_diff'] = (df3['issue_date'] - df3['resister_date']).dt.days\n",
    "df3['date_diff2'] = [1 if s > 0 else ( -1 if s < 0 else 0) for s in df3['date_diff']]\n",
    "df3['date_same'] = (df3['issue_date'] == df3['resister_date']).astype(int)\n",
    "df3['singer_same'] = (df3['singer'] == df3['album_singer']).astype(int)\n",
    "df3['eng_kor'] = [0 if re.sub('[^A-Za-z]', '', s) else 1 for s in df3['singer']]\n",
    "df3['y'] = df3['date_same'] * df3['singer_same']"
   ]
  },
  {
   "cell_type": "markdown",
   "metadata": {
    "id": "gtxyLM_yTQA4"
   },
   "source": [
    "## 2. 학습데이터 준비 및 분포 확인\n",
    "- 독립변수로 저작권등록일과 발매일의 차이 / 외국가수와 한국가수 여부를 범주화\n",
    "- 종속변수로 등록일과 발매일, 가수와 저작권자가 동일한 경우를 통한 저작권 검증 문제 여부"
   ]
  },
  {
   "cell_type": "code",
   "execution_count": 9,
   "metadata": {
    "colab": {
     "base_uri": "https://localhost:8080/"
    },
    "executionInfo": {
     "elapsed": 13,
     "status": "ok",
     "timestamp": 1665576999963,
     "user": {
      "displayName": "박선호",
      "userId": "01683109212755972432"
     },
     "user_tz": -540
    },
    "id": "ntRu_xBPkhd-",
    "outputId": "a877f0ff-ea8d-4033-c518-b01b9262efd7"
   },
   "outputs": [
    {
     "data": {
      "text/plain": [
       "(81912, 20479, 81912, 20479)"
      ]
     },
     "execution_count": 9,
     "metadata": {},
     "output_type": "execute_result"
    }
   ],
   "source": [
    "# 학습데이터 중에서 검증을 위한 테스트 데이터 20%\n",
    "x = df3[['date_diff2', 'eng_kor']]\n",
    "y = df3['y']\n",
    "X_train, X_test, y_train, y_test = train_test_split(x, y, test_size = 0.2, random_state = 10, shuffle = True)\n",
    "len(X_train), len(X_test), len(y_train), len(y_test)"
   ]
  },
  {
   "cell_type": "markdown",
   "metadata": {
    "id": "15-gQAgQTIWK"
   },
   "source": [
    "- 학습데이터 분포 시각화"
   ]
  },
  {
   "cell_type": "code",
   "execution_count": 10,
   "metadata": {
    "colab": {
     "base_uri": "https://localhost:8080/",
     "height": 434
    },
    "executionInfo": {
     "elapsed": 10,
     "status": "ok",
     "timestamp": 1665576999964,
     "user": {
      "displayName": "박선호",
      "userId": "01683109212755972432"
     },
     "user_tz": -540
    },
    "id": "YwIIVRhCPr76",
    "outputId": "b4c70d36-5e67-4399-b795-27b3c875cec2"
   },
   "outputs": [
    {
     "name": "stderr",
     "output_type": "stream",
     "text": [
      "C:\\Users\\user\\anaconda3\\envs\\CIVP-flow_prediction\\lib\\site-packages\\seaborn\\_decorators.py:43: FutureWarning: Pass the following variable as a keyword arg: x. From version 0.12, the only valid positional argument will be `data`, and passing other arguments without an explicit keyword will result in an error or misinterpretation.\n",
      "  FutureWarning\n",
      "C:\\Users\\user\\anaconda3\\envs\\CIVP-flow_prediction\\lib\\site-packages\\seaborn\\_decorators.py:43: FutureWarning: Pass the following variable as a keyword arg: x. From version 0.12, the only valid positional argument will be `data`, and passing other arguments without an explicit keyword will result in an error or misinterpretation.\n",
      "  FutureWarning\n",
      "C:\\Users\\user\\anaconda3\\envs\\CIVP-flow_prediction\\lib\\site-packages\\seaborn\\_decorators.py:43: FutureWarning: Pass the following variable as a keyword arg: x. From version 0.12, the only valid positional argument will be `data`, and passing other arguments without an explicit keyword will result in an error or misinterpretation.\n",
      "  FutureWarning\n"
     ]
    },
    {
     "data": {
      "text/plain": [
       "<AxesSubplot:xlabel='y', ylabel='count'>"
      ]
     },
     "execution_count": 10,
     "metadata": {},
     "output_type": "execute_result"
    },
    {
     "data": {
      "image/png": "[encoded data removed]",
      "text/plain": [
       "<Figure size 1500x400 with 3 Axes>"
      ]
     },
     "metadata": {},
     "output_type": "display_data"
    }
   ],
   "source": [
    "fig, axs = plt.subplots(ncols=3, figsize=(15,4))\n",
    "sns.countplot(df3['date_diff2'], ax=axs[0])\n",
    "sns.countplot(df3['eng_kor'], ax=axs[1])\n",
    "sns.countplot(df3['y'], ax=axs[2])"
   ]
  },
  {
   "cell_type": "code",
   "execution_count": 11,
   "metadata": {
    "colab": {
     "base_uri": "https://localhost:8080/"
    },
    "executionInfo": {
     "elapsed": 12,
     "status": "ok",
     "timestamp": 1665538425173,
     "user": {
      "displayName": "박선호",
      "userId": "01683109212755972432"
     },
     "user_tz": -540
    },
    "id": "AU1CXI_v0AUO",
    "outputId": "5024235c-3298-4a74-f803-5c8e6c51b83f"
   },
   "outputs": [
    {
     "data": {
      "text/plain": [
       "68123     0\n",
       "68124     0\n",
       "68125     0\n",
       "68126     0\n",
       "68127     0\n",
       "         ..\n",
       "173408    1\n",
       "173409    1\n",
       "173410    1\n",
       "173411    1\n",
       "173412    1\n",
       "Name: y, Length: 102391, dtype: int32"
      ]
     },
     "execution_count": 11,
     "metadata": {},
     "output_type": "execute_result"
    }
   ],
   "source": [
    "df[\"issue_date\"] = df[\"issue_date\"].astype(\"datetime64\")\n",
    "df3['y']"
   ]
  },
  {
   "cell_type": "code",
   "execution_count": 12,
   "metadata": {
    "colab": {
     "base_uri": "https://localhost:8080/"
    },
    "executionInfo": {
     "elapsed": 8,
     "status": "ok",
     "timestamp": 1665538425174,
     "user": {
      "displayName": "박선호",
      "userId": "01683109212755972432"
     },
     "user_tz": -540
    },
    "id": "TGJ7iGTQ046g",
    "outputId": "986ecfbd-5044-43d5-e5fb-461585b90e25"
   },
   "outputs": [
    {
     "data": {
      "text/plain": [
       "60000    NaT\n",
       "60001    NaT\n",
       "60002    NaT\n",
       "60003    NaT\n",
       "60004    NaT\n",
       "          ..\n",
       "179995   NaT\n",
       "179996   NaT\n",
       "179997   NaT\n",
       "179998   NaT\n",
       "179999   NaT\n",
       "Name: issue_date, Length: 120000, dtype: datetime64[ns]"
      ]
     },
     "execution_count": 12,
     "metadata": {},
     "output_type": "execute_result"
    }
   ],
   "source": [
    "df[\"issue_date\"]"
   ]
  },
  {
   "cell_type": "code",
   "execution_count": 13,
   "metadata": {
    "colab": {
     "base_uri": "https://localhost:8080/",
     "height": 331
    },
    "executionInfo": {
     "elapsed": 2443,
     "status": "ok",
     "timestamp": 1665538427972,
     "user": {
      "displayName": "박선호",
      "userId": "01683109212755972432"
     },
     "user_tz": -540
    },
    "id": "JhTqzBKt0I9k",
    "outputId": "51fea4ee-29fc-4a63-942b-c0e45275b1d8"
   },
   "outputs": [
    {
     "data": {
      "text/plain": [
       "<AxesSubplot:xlabel='issue_date'>"
      ]
     },
     "execution_count": 13,
     "metadata": {},
     "output_type": "execute_result"
    },
    {
     "data": {
      "image/png": "[encoded data removed]",
      "text/plain": [
       "<Figure size 640x480 with 1 Axes>"
      ]
     },
     "metadata": {},
     "output_type": "display_data"
    }
   ],
   "source": [
    "df[\"issue_date\"].groupby(df[\"issue_date\"].dt.year).count().plot(kind=\"bar\")"
   ]
  },
  {
   "cell_type": "markdown",
   "metadata": {
    "id": "ZtfD8qUHU7FD"
   },
   "source": [
    "## 3. 모델 학습 및 결과 평가\n",
    "> 기본적인 MLP(multilayer perceptron model) 구조\n",
    "\n",
    "* hidden layer 2개층(각 10, 5 node)\n",
    "\n",
    "* activation function : relu, sigmoid\n",
    "\n",
    "* optimizer : adam \n",
    "\n",
    "\n",
    "\n",
    "\n"
   ]
  },
  {
   "cell_type": "code",
   "execution_count": 14,
   "metadata": {
    "executionInfo": {
     "elapsed": 2546,
     "status": "ok",
     "timestamp": 1665538430514,
     "user": {
      "displayName": "박선호",
      "userId": "01683109212755972432"
     },
     "user_tz": -540
    },
    "id": "BcgXzTtIkh6r"
   },
   "outputs": [],
   "source": [
    "model = Sequential()\n",
    "model.add(Dense(10, input_dim=2, activation='relu'))\n",
    "model.add(Dense(5, activation='relu'))\n",
    "model.add(Dense(1, activation='sigmoid'))\n",
    "model.compile(loss='binary_crossentropy', optimizer='adam', metrics=['accuracy'])"
   ]
  },
  {
   "cell_type": "markdown",
   "metadata": {
    "id": "Tg3QSYbgVMP5"
   },
   "source": [
    "> 모델 학습\n",
    "* 10 epochs, batch size 100"
   ]
  },
  {
   "cell_type": "code",
   "execution_count": 15,
   "metadata": {
    "colab": {
     "base_uri": "https://localhost:8080/"
    },
    "executionInfo": {
     "elapsed": 32959,
     "status": "ok",
     "timestamp": 1665538463471,
     "user": {
      "displayName": "박선호",
      "userId": "01683109212755972432"
     },
     "user_tz": -540
    },
    "id": "mNVr6u-xkh_i",
    "outputId": "712960e7-7021-4c58-d5e0-ed35a657109b"
   },
   "outputs": [
    {
     "name": "stdout",
     "output_type": "stream",
     "text": [
      "Epoch 1/10\n",
      "820/820 [==============================] - 1s 1ms/step - loss: 0.1911 - accuracy: 0.9499 - val_loss: 0.0927 - val_accuracy: 0.9490\n",
      "Epoch 2/10\n",
      "820/820 [==============================] - 1s 1ms/step - loss: 0.0619 - accuracy: 0.9499 - val_loss: 0.0464 - val_accuracy: 0.9490\n",
      "Epoch 3/10\n",
      "820/820 [==============================] - 1s 1ms/step - loss: 0.0416 - accuracy: 0.9852 - val_loss: 0.0396 - val_accuracy: 0.9889\n",
      "Epoch 4/10\n",
      "820/820 [==============================] - 1s 1ms/step - loss: 0.0360 - accuracy: 0.9896 - val_loss: 0.0349 - val_accuracy: 0.9889\n",
      "Epoch 5/10\n",
      "820/820 [==============================] - 1s 1ms/step - loss: 0.0322 - accuracy: 0.9896 - val_loss: 0.0319 - val_accuracy: 0.9889\n",
      "Epoch 6/10\n",
      "820/820 [==============================] - 1s 1ms/step - loss: 0.0298 - accuracy: 0.9896 - val_loss: 0.0302 - val_accuracy: 0.9889\n",
      "Epoch 7/10\n",
      "820/820 [==============================] - 1s 1ms/step - loss: 0.0285 - accuracy: 0.9896 - val_loss: 0.0295 - val_accuracy: 0.9889\n",
      "Epoch 8/10\n",
      "820/820 [==============================] - 1s 1ms/step - loss: 0.0280 - accuracy: 0.9896 - val_loss: 0.0292 - val_accuracy: 0.9889\n",
      "Epoch 9/10\n",
      "820/820 [==============================] - 1s 1ms/step - loss: 0.0278 - accuracy: 0.9896 - val_loss: 0.0291 - val_accuracy: 0.9889\n",
      "Epoch 10/10\n",
      "820/820 [==============================] - 1s 1ms/step - loss: 0.0278 - accuracy: 0.9896 - val_loss: 0.0291 - val_accuracy: 0.9889\n"
     ]
    }
   ],
   "source": [
    "history = model.fit(X_train, y_train, validation_data=(X_test, y_test),\n",
    "                    epochs=10, batch_size=100)"
   ]
  },
  {
   "cell_type": "markdown",
   "metadata": {
    "id": "2wZwQS6rZ6a1"
   },
   "source": [
    "> 테스트데이터를 통한 모델 성능 평가"
   ]
  },
  {
   "cell_type": "code",
   "execution_count": 16,
   "metadata": {
    "colab": {
     "base_uri": "https://localhost:8080/"
    },
    "executionInfo": {
     "elapsed": 2840,
     "status": "ok",
     "timestamp": 1665538466296,
     "user": {
      "displayName": "박선호",
      "userId": "01683109212755972432"
     },
     "user_tz": -540
    },
    "id": "igpFSGFTXSZL",
    "outputId": "1902f9f7-1f32-40f8-b07f-75d4ea28310f"
   },
   "outputs": [
    {
     "name": "stdout",
     "output_type": "stream",
     "text": [
      "640/640 [==============================] - 1s 893us/step - loss: 0.0291 - accuracy: 0.9889\n",
      "Accuracy: 98.89\n"
     ]
    }
   ],
   "source": [
    "# evaluate the keras model\n",
    "_, accuracy = model.evaluate(X_test, y_test)\n",
    "print('Accuracy: %.2f' % (accuracy*100))"
   ]
  },
  {
   "cell_type": "markdown",
   "metadata": {
    "id": "kn41qQ0taFWs"
   },
   "source": [
    "> 학습결과를 그래프로 확인"
   ]
  },
  {
   "cell_type": "code",
   "execution_count": 17,
   "metadata": {
    "colab": {
     "base_uri": "https://localhost:8080/",
     "height": 285
    },
    "executionInfo": {
     "elapsed": 10,
     "status": "ok",
     "timestamp": 1665538466296,
     "user": {
      "displayName": "박선호",
      "userId": "01683109212755972432"
     },
     "user_tz": -540
    },
    "id": "hl5HsdzokiCk",
    "outputId": "efe50726-2bf8-42fe-8113-c98c0a1157c7"
   },
   "outputs": [
    {
     "data": {
      "image/png": "[encoded data removed]",
      "text/plain": [
       "<Figure size 640x480 with 1 Axes>"
      ]
     },
     "metadata": {},
     "output_type": "display_data"
    }
   ],
   "source": [
    "y_loss = history.history['loss']\n",
    "y_vloss = history.history['val_loss']\n",
    "x_len = np.arange(len(y_loss))\n",
    "plt.plot(x_len, y_loss, marker='.', c='blue', label=\"Train-set Loss\")\n",
    "plt.plot(x_len, y_vloss, marker='.', c='red', label=\"Validation-set Loss\")\n",
    "plt.legend(loc='upper right')\n",
    "plt.grid()\n",
    "plt.xlabel('epoch')\n",
    "plt.ylabel('loss')\n",
    "plt.show()"
   ]
  },
  {
   "cell_type": "markdown",
   "metadata": {
    "id": "Os9r9qcnaLBl"
   },
   "source": [
    "##### > 학습에 걸리는 시간 측정\n",
    "* 테스트 데이터 대상 5번 반복해서 평균 측정"
   ]
  },
  {
   "cell_type": "code",
   "execution_count": 18,
   "metadata": {
    "colab": {
     "base_uri": "https://localhost:8080/"
    },
    "executionInfo": {
     "elapsed": 9244,
     "status": "ok",
     "timestamp": 1665538475533,
     "user": {
      "displayName": "박선호",
      "userId": "01683109212755972432"
     },
     "user_tz": -540
    },
    "id": "pGJ08drQ6DDc",
    "outputId": "73ee0650-add2-4e1c-ff3b-97ead4d3bef4"
   },
   "outputs": [
    {
     "name": "stdout",
     "output_type": "stream",
     "text": [
      "average inference time: 0.339\n"
     ]
    }
   ],
   "source": [
    "import time\n",
    "start_time = time.time()\n",
    "for i in range(5):\n",
    "    y_test_pred = model.predict(X_test)\n",
    "    y_test_pred = np.around(y_test_pred)\n",
    "\n",
    "print(\"average inference time: {:.3f}\".format((time.time()-start_time) / 10))"
   ]
  },
  {
   "cell_type": "code",
   "execution_count": 19,
   "metadata": {},
   "outputs": [
    {
     "data": {
      "text/plain": [
       "(20479, 2)"
      ]
     },
     "execution_count": 19,
     "metadata": {},
     "output_type": "execute_result"
    }
   ],
   "source": [
    "X_test.shape"
   ]
  },
  {
   "cell_type": "markdown",
   "metadata": {
    "id": "MwDLPtp-aaAt"
   },
   "source": [
    "> 히트맵을 그려서 모델성능 시각화"
   ]
  },
  {
   "cell_type": "code",
   "execution_count": 21,
   "metadata": {
    "colab": {
     "base_uri": "https://localhost:8080/",
     "height": 301
    },
    "executionInfo": {
     "elapsed": 634,
     "status": "ok",
     "timestamp": 1665538476155,
     "user": {
      "displayName": "박선호",
      "userId": "01683109212755972432"
     },
     "user_tz": -540
    },
    "id": "qUl9WwM07jD-",
    "outputId": "a1406626-fcf5-41e0-f08a-a3d1f736f6c4"
   },
   "outputs": [
    {
     "data": {
      "image/png": "[encoded data removed]",
      "text/plain": [
       "<Figure size 640x480 with 2 Axes>"
      ]
     },
     "metadata": {},
     "output_type": "display_data"
    }
   ],
   "source": [
    "import itertools\n",
    "cf = confusion_matrix(y_test_pred, y_test)\n",
    "plt.imshow(cf,cmap=plt.cm.Blues,interpolation='nearest')\n",
    "plt.colorbar()\n",
    "plt.title('Confusion Matrix')\n",
    "plt.xlabel('Predicted')\n",
    "plt.ylabel('Actual')\n",
    "tick_marks = np.arange(len(set(y_test))) # length of classes\n",
    "class_labels = ['0','1']\n",
    "tick_marks\n",
    "plt.xticks(tick_marks,class_labels)\n",
    "plt.yticks(tick_marks,class_labels)\n",
    "# plotting text value inside cells\n",
    "thresh = cf.max() / 2.\n",
    "for i,j in itertools.product(range(cf.shape[0]),range(cf.shape[1])):\n",
    "    plt.text(j,i,format(cf[i,j],'d'),horizontalalignment='center',color='white' if cf[i,j] >thresh else 'black')\n",
    "plt.show();"
   ]
  },
  {
   "cell_type": "markdown",
   "metadata": {
    "id": "ruEh605makZr"
   },
   "source": [
    "> 모델 f1-score 측정"
   ]
  },
  {
   "cell_type": "code",
   "execution_count": 22,
   "metadata": {
    "colab": {
     "base_uri": "https://localhost:8080/"
    },
    "executionInfo": {
     "elapsed": 7,
     "status": "ok",
     "timestamp": 1665538476155,
     "user": {
      "displayName": "박선호",
      "userId": "01683109212755972432"
     },
     "user_tz": -540
    },
    "id": "3hmpP9AO9zrb",
    "outputId": "6b92b630-758c-455b-96ee-93567fc8795b"
   },
   "outputs": [
    {
     "name": "stdout",
     "output_type": "stream",
     "text": [
      "test_f1_score: 0.989\n"
     ]
    }
   ],
   "source": [
    "report = classification_report(y_test, y_test_pred, target_names=['certain', 'uncertain'], output_dict=True)\n",
    "report_df = pd.DataFrame(report).transpose()\n",
    "f1_score = report_df.loc[\"accuracy\",\"f1-score\"]\n",
    "print(\"test_f1_score: {:.3f}\".format(f1_score))"
   ]
  },
  {
   "cell_type": "markdown",
   "metadata": {
    "id": "Os9r9qcnaLBl"
   },
   "source": [
    "##### > 예측 평균 정확도 측정\n",
    "* 테스트 데이터 대상 5번 반복해서 평균 측정"
   ]
  },
  {
   "cell_type": "code",
   "execution_count": 23,
   "metadata": {},
   "outputs": [
    {
     "name": "stdout",
     "output_type": "stream",
     "text": [
      "[1] test_f1_score: 0.990\n",
      "[2] test_f1_score: 0.988\n",
      "[3] test_f1_score: 0.988\n",
      "[4] test_f1_score: 0.991\n",
      "[5] test_f1_score: 0.987\n",
      "test_f1_score: 0.989\n"
     ]
    }
   ],
   "source": [
    "test_num = 5\n",
    "dataset_index_list = list(X_test.index)\n",
    "\n",
    "f1_score_list = []\n",
    "\n",
    "for test_idx in range(test_num):\n",
    "    random_index_list = random.sample(dataset_index_list, 5000)\n",
    "    y_test_pred = model.predict(X_test.loc[random_index_list])\n",
    "    y_test_pred = np.around(y_test_pred)\n",
    "    \n",
    "    report = classification_report(y_test.loc[random_index_list], y_test_pred, target_names=['certain', 'uncertain'], output_dict=True)\n",
    "    report_df = pd.DataFrame(report).transpose()\n",
    "    f1_score = report_df.loc[\"accuracy\",\"f1-score\"]\n",
    "    f1_score_list.append(f1_score)\n",
    "    print(\"[{}] test_f1_score: {:.3f}\".format(test_idx+1, f1_score))\n",
    "    \n",
    "print(\"test_f1_score: {:.3f}\".format(np.mean(f1_score_list)))"
   ]
  },
  {
   "cell_type": "code",
   "execution_count": null,
   "metadata": {},
   "outputs": [],
   "source": []
  }
 ],
 "metadata": {
  "accelerator": "GPU",
  "colab": {
   "authorship_tag": "ABX9TyNsPycK2zRPsCPx5pxnp1Sl",
   "collapsed_sections": [],
   "mount_file_id": "1h_4Tq43dj55wtZKiN09-5SoYwD-oerix",
   "provenance": [],
   "toc_visible": true
  },
  "gpuClass": "standard",
  "kernelspec": {
   "display_name": "CIVP-flow_prediction",
   "language": "python",
   "name": "civp-flow_prediction"
  },
  "language_info": {
   "codemirror_mode": {
    "name": "ipython",
    "version": 3
   },
   "file_extension": ".py",
   "mimetype": "text/x-python",
   "name": "python",
   "nbconvert_exporter": "python",
   "pygments_lexer": "ipython3",
   "version": "3.7.13"
  }
 },
 "nbformat": 4,
 "nbformat_minor": 1
}
